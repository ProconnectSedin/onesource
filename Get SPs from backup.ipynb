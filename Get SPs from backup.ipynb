{
 "cells": [
  {
   "cell_type": "code",
   "execution_count": null,
   "metadata": {},
   "outputs": [],
   "source": [
    "with open('Tables/all tables.sql') as f:\n",
    "    tables = f.read()"
   ]
  },
  {
   "cell_type": "code",
   "execution_count": null,
   "metadata": {},
   "outputs": [],
   "source": [
    "# 1466 tables, 1466 found\n",
    "# 1990 constraints, 1990 found\n",
    "# 569 index, 563 found, 6 remaining\n",
    "# 870 alter table, 870 found"
   ]
  },
  {
   "cell_type": "code",
   "execution_count": null,
   "metadata": {},
   "outputs": [],
   "source": [
    "import re\n",
    "sp_regex = r\"CREATE PROCEDURE [\\w\\.\\(\\)\\n\\s\\$\\-=,<>';]+\\$\\$;\"\n",
    "table_regex = r'''CREATE TABLE [\\w\\.\\s\\(\\)\\n,'\">=:#]*;'''\n",
    "constraint_regex = r'alter table only [\\w\\.\\n\\s\\(\\),\"]*;'\n",
    "index_regex = r'create index [\\w\\s\\.\\(\\),]*;'\n",
    "alter_table_regex = r'alter table [\\w\\.\\s\\(\\n\\)-]+;'\n",
    "r=re.findall(table_regex,tables)\n",
    "len(r)"
   ]
  },
  {
   "cell_type": "code",
   "execution_count": null,
   "metadata": {},
   "outputs": [],
   "source": [
    "for i in r:\n",
    "    schema, name = i.split()[2].split('.')\n",
    "    with open(f\"Tables/{schema}/{name}.sql\",'w') as f:\n",
    "        f.write(i)"
   ]
  },
  {
   "cell_type": "code",
   "execution_count": null,
   "metadata": {},
   "outputs": [],
   "source": []
  }
 ],
 "metadata": {
  "kernelspec": {
   "display_name": "Python 3",
   "language": "python",
   "name": "python3"
  },
  "language_info": {
   "codemirror_mode": {
    "name": "ipython",
    "version": 3
   },
   "file_extension": ".py",
   "mimetype": "text/x-python",
   "name": "python",
   "nbconvert_exporter": "python",
   "pygments_lexer": "ipython3",
   "version": "3.10.9 (main, Dec 15 2022, 17:11:09) [Clang 14.0.0 (clang-1400.0.29.202)]"
  },
  "orig_nbformat": 4,
  "vscode": {
   "interpreter": {
    "hash": "b0fa6594d8f4cbf19f97940f81e996739fb7646882a419484c72d19e05852a7e"
   }
  }
 },
 "nbformat": 4,
 "nbformat_minor": 2
}
