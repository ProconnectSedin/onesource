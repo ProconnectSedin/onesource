{
 "cells": [
  {
   "cell_type": "code",
   "execution_count": null,
   "metadata": {},
   "outputs": [],
   "source": [
    "with open('Tables/all index.sql') as f:\n",
    "    sql = f.read()"
   ]
  },
  {
   "cell_type": "code",
   "execution_count": null,
   "metadata": {},
   "outputs": [],
   "source": [
    "# 1466 tables, 1466 found\n",
    "# 870 identity, 870 found\n",
    "# 1990 constraints, 1990 found\n",
    "# 569 index, 569 found"
   ]
  },
  {
   "cell_type": "code",
   "execution_count": null,
   "metadata": {},
   "outputs": [],
   "source": [
    "import re\n",
    "sp_regex = r\"CREATE PROCEDURE [\\w\\.\\(\\)\\n\\s\\$\\-=,<>';]+\\$\\$;\"\n",
    "\n",
    "table_regex = r'''CREATE TABLE [\\w\\.\\s\\n\\(\\),'\">=:#]*;'''\n",
    "identity_regex = r'ALTER TABLE [\\w\\.\\s\\n\\(\\)-]+;'\n",
    "constraint_regex = r'ALTER TABLE ONLY [\\w\\.\\s\\n\\(\\),\"]*;'\n",
    "index_regex = r'CREATE INDEX [\\w\\.\\s\\(\\),\":]*;'\n",
    "\n",
    "r=re.findall(index_regex, sql)\n",
    "len(r)"
   ]
  },
  {
   "cell_type": "code",
   "execution_count": null,
   "metadata": {},
   "outputs": [],
   "source": [
    "r[0].split()[4].split('.')"
   ]
  },
  {
   "cell_type": "code",
   "execution_count": null,
   "metadata": {},
   "outputs": [],
   "source": [
    "for i in r:\n",
    "    schema, name = i.split()[4].split('.')\n",
    "    with open(f\"Tables/{schema}/{name}.sql\",'a') as f:\n",
    "        f.write('\\n\\n'+i)"
   ]
  },
  {
   "cell_type": "code",
   "execution_count": null,
   "metadata": {},
   "outputs": [],
   "source": []
  }
 ],
 "metadata": {
  "kernelspec": {
   "display_name": "Python 3",
   "language": "python",
   "name": "python3"
  },
  "language_info": {
   "codemirror_mode": {
    "name": "ipython",
    "version": 3
   },
   "file_extension": ".py",
   "mimetype": "text/x-python",
   "name": "python",
   "nbconvert_exporter": "python",
   "pygments_lexer": "ipython3",
   "version": "3.10.9"
  },
  "orig_nbformat": 4,
  "vscode": {
   "interpreter": {
    "hash": "b0fa6594d8f4cbf19f97940f81e996739fb7646882a419484c72d19e05852a7e"
   }
  }
 },
 "nbformat": 4,
 "nbformat_minor": 2
}
